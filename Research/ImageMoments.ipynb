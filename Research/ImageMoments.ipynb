{
 "cells": [
  {
   "cell_type": "code",
   "execution_count": 2,
   "metadata": {},
   "outputs": [],
   "source": [
    "import cv2\n",
    "import numpy as np\n",
    "import matplotlib.pyplot as plt"
   ]
  },
  {
   "cell_type": "code",
   "execution_count": 65,
   "metadata": {},
   "outputs": [
    {
     "data": {
      "text/plain": [
       "<matplotlib.image.AxesImage at 0x1f43668fe60>"
      ]
     },
     "execution_count": 65,
     "metadata": {},
     "output_type": "execute_result"
    },
    {
     "data": {
      "image/png": "[encoded data removed]",
      "text/plain": [
       "<Figure size 640x480 with 1 Axes>"
      ]
     },
     "metadata": {},
     "output_type": "display_data"
    }
   ],
   "source": [
    "a = np.where(np.arange(400)%10==0, 1, 0).reshape(20,20)[:2,:].T\n",
    "# b = a * np.eye(20)\n",
    "plt.imshow(a, cmap=\"grey\")\n"
   ]
  },
  {
   "cell_type": "code",
   "execution_count": 66,
   "metadata": {},
   "outputs": [
    {
     "data": {
      "text/plain": [
       "4"
      ]
     },
     "execution_count": 66,
     "metadata": {},
     "output_type": "execute_result"
    }
   ],
   "source": [
    "def get_image_moment_pq(*, frame, p, q, x_mean=0, y_mean=0):\n",
    "\n",
    "    image_moment_pq = 0\n",
    "    for x in range(frame.shape[0]):\n",
    "        for y in range(frame.shape[1]):\n",
    "            image_moment_pq += (x-x_mean)**p * (y-y_mean)**q * frame[x,y]\n",
    "    return image_moment_pq\n",
    "\n",
    "get_image_moment_pq(frame=a, p=0, q=0)"
   ]
  },
  {
   "cell_type": "code",
   "execution_count": 67,
   "metadata": {},
   "outputs": [
    {
     "name": "stdout",
     "output_type": "stream",
     "text": [
      "x_mean: 5.0\n",
      "y_mean: 0.5\n",
      "central moment: 25.0\n"
     ]
    }
   ],
   "source": [
    "x_mean = get_image_moment_pq(frame=a, p=1, q=0)/get_image_moment_pq(frame=a, p=0, q=0)\n",
    "y_mean = get_image_moment_pq(frame=a, p=0, q=1)/get_image_moment_pq(frame=a, p=0, q=0)\n",
    "\n",
    "ctr_moment = get_image_moment_pq(frame=a, p=2, q=2, x_mean=x_mean, y_mean=y_mean)\n",
    "\n",
    "print(f\"x_mean: {x_mean}\")\n",
    "print(f\"y_mean: {y_mean}\")\n",
    "print(f\"central moment: {ctr_moment}\")"
   ]
  },
  {
   "cell_type": "code",
   "execution_count": null,
   "metadata": {},
   "outputs": [],
   "source": []
  },
  {
   "cell_type": "code",
   "execution_count": null,
   "metadata": {},
   "outputs": [],
   "source": []
  }
 ],
 "metadata": {
  "kernelspec": {
   "display_name": "cv",
   "language": "python",
   "name": "python3"
  },
  "language_info": {
   "codemirror_mode": {
    "name": "ipython",
    "version": 3
   },
   "file_extension": ".py",
   "mimetype": "text/x-python",
   "name": "python",
   "nbconvert_exporter": "python",
   "pygments_lexer": "ipython3",
   "version": "3.12.0"
  }
 },
 "nbformat": 4,
 "nbformat_minor": 2
}
