{
 "cells": [
  {
   "cell_type": "code",
   "execution_count": 200,
   "metadata": {},
   "outputs": [],
   "source": [
    "import os\n",
    "import cv2\n",
    "import numpy as np\n",
    "import matplotlib.pyplot as plt"
   ]
  },
  {
   "cell_type": "code",
   "execution_count": 201,
   "metadata": {},
   "outputs": [
    {
     "data": {
      "text/plain": [
       "{'c:\\\\Users\\\\moorb\\\\Documents\\\\MyProjects\\\\Code\\\\Repositories\\\\CameraTracking\\\\Recordings\\\\Videos': [],\n",
       " 'c:\\\\Users\\\\moorb\\\\Documents\\\\MyProjects\\\\Code\\\\Repositories\\\\CameraTracking\\\\Recordings\\\\Videos\\\\2024-11-19': [< cv2.VideoCapture 00000245DCFD3BF0>,\n",
       "  < cv2.VideoCapture 00000245DCFD1950>]}"
      ]
     },
     "execution_count": 201,
     "metadata": {},
     "output_type": "execute_result"
    }
   ],
   "source": [
    "ABS_PATH = os.path.abspath(\"\")\n",
    "VIDEO_PATH = os.path.join(os.path.dirname(ABS_PATH), \"Recordings\", \"Videos\")\n",
    "\n",
    "videos = {}\n",
    "\n",
    "for root, dirs, fnames in os.walk(VIDEO_PATH):\n",
    "    videos[root] = [cv2.VideoCapture(os.path.join(root, fname)) for fname in fnames]\n",
    "\n",
    "videos"
   ]
  },
  {
   "cell_type": "code",
   "execution_count": 202,
   "metadata": {},
   "outputs": [
    {
     "data": {
      "image/png": "[encoded data removed]",
      "text/plain": [
       "<Figure size 1600x500 with 1 Axes>"
      ]
     },
     "metadata": {},
     "output_type": "display_data"
    }
   ],
   "source": [
    "mat = np.array([-0.14861, 1.78277, -0.29227, -0.90649, 1.97294, 0]).reshape(3,2)\n",
    "\n",
    "def get_cube_helix_colormap(lamb, start_color=30, rotations=0.005, hue=1/255, gamma=1):\n",
    "    lamb = np.array(lamb)\n",
    "    a = ((hue*lamb**gamma * (1-lamb**gamma))/2)\n",
    "    phi = 2*np.pi*(start_color/3+rotations*lamb)\n",
    "    cube_helix_colormap = lamb**gamma + a*mat @ np.array([np.cos(phi), np.sin(phi)])\n",
    "    return np.clip(cube_helix_colormap, 0, 255).astype(\"uint8\")\n",
    "\n",
    "cube_helix_colormap = np.array([get_cube_helix_colormap(i) for i in range(256)])\n",
    "plt.figure(figsize=(16,5))\n",
    "plt.imshow(np.array(cube_helix_colormap).reshape(1, 256, 3));   "
   ]
  },
  {
   "cell_type": "code",
   "execution_count": 203,
   "metadata": {},
   "outputs": [],
   "source": [
    "cap = videos[root][0]\n",
    "\n",
    "frames = []\n",
    "\n",
    "while True:\n",
    "    ret, frame = cap.read()\n",
    "    if not ret: break\n",
    "    frame = cv2.cvtColor(frame, cv2.COLOR_BGR2GRAY)\n",
    "    frame = cube_helix_colormap[frame]\n",
    "    frames.append(frame)\n",
    "\n",
    "fourcc = cv2.VideoWriter_fourcc(*'mp4v')\n",
    "out = cv2.VideoWriter(\"test.mp4\", fourcc, 20.0, (frames[-1].shape[1], frames[-1].shape[0]), isColor=True) \n",
    "\n",
    "for frame in frames: \n",
    "    out.write(frame)\n",
    "\n",
    "out.release()\n",
    "cap.release()\n",
    "\n"
   ]
  },
  {
   "cell_type": "code",
   "execution_count": null,
   "metadata": {},
   "outputs": [],
   "source": []
  },
  {
   "cell_type": "code",
   "execution_count": null,
   "metadata": {},
   "outputs": [],
   "source": []
  }
 ],
 "metadata": {
  "kernelspec": {
   "display_name": "cv",
   "language": "python",
   "name": "python3"
  },
  "language_info": {
   "codemirror_mode": {
    "name": "ipython",
    "version": 3
   },
   "file_extension": ".py",
   "mimetype": "text/x-python",
   "name": "python",
   "nbconvert_exporter": "python",
   "pygments_lexer": "ipython3",
   "version": "3.12.0"
  }
 },
 "nbformat": 4,
 "nbformat_minor": 2
}
